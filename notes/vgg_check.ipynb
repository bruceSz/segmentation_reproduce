{
 "cells": [
  {
   "cell_type": "code",
   "execution_count": 14,
   "id": "4aef0436",
   "metadata": {},
   "outputs": [],
   "source": [
    "from torchvision import models\n",
    "import torch"
   ]
  },
  {
   "cell_type": "code",
   "execution_count": 15,
   "id": "74e3db81",
   "metadata": {},
   "outputs": [],
   "source": [
    "vgg = models.vgg16_bn(pretrained=False)"
   ]
  },
  {
   "cell_type": "code",
   "execution_count": 84,
   "id": "577beaba",
   "metadata": {},
   "outputs": [
    {
     "name": "stdout",
     "output_type": "stream",
     "text": [
      "factor is:  1\n",
      "kernel is:  2\n",
      "center:  0.5\n",
      "[array([[0],\n",
      "       [1]]), array([[0, 1]])]\n",
      "xx: [[0.5]\n",
      " [0.5]]\n",
      "bilinear_filter [[0.25 0.25]\n",
      " [0.25 0.25]]\n",
      "range(0, 3)\n",
      "xxxxxxx [[0.25 0.25]\n",
      " [0.25 0.25]]\n",
      "[[[[0. 0.]\n",
      "   [0. 0.]]\n",
      "\n",
      "  [[0. 0.]\n",
      "   [0. 0.]]\n",
      "\n",
      "  [[0. 0.]\n",
      "   [0. 0.]]]\n",
      "\n",
      "\n",
      " [[[0. 0.]\n",
      "   [0. 0.]]\n",
      "\n",
      "  [[0. 0.]\n",
      "   [0. 0.]]\n",
      "\n",
      "  [[0. 0.]\n",
      "   [0. 0.]]]\n",
      "\n",
      "\n",
      " [[[0. 0.]\n",
      "   [0. 0.]]\n",
      "\n",
      "  [[0. 0.]\n",
      "   [0. 0.]]\n",
      "\n",
      "  [[0. 0.]\n",
      "   [0. 0.]]]]\n",
      "[[[[1. 2.]\n",
      "   [3. 4.]]\n",
      "\n",
      "  [[0. 0.]\n",
      "   [0. 0.]]\n",
      "\n",
      "  [[0. 0.]\n",
      "   [0. 0.]]]\n",
      "\n",
      "\n",
      " [[[0. 0.]\n",
      "   [0. 0.]]\n",
      "\n",
      "  [[1. 2.]\n",
      "   [3. 4.]]\n",
      "\n",
      "  [[0. 0.]\n",
      "   [0. 0.]]]\n",
      "\n",
      "\n",
      " [[[0. 0.]\n",
      "   [0. 0.]]\n",
      "\n",
      "  [[0. 0.]\n",
      "   [0. 0.]]\n",
      "\n",
      "  [[1. 2.]\n",
      "   [3. 4.]]]]\n"
     ]
    },
    {
     "data": {
      "text/plain": [
       "tensor([[[[0.2500, 0.2500],\n",
       "          [0.2500, 0.2500]],\n",
       "\n",
       "         [[0.0000, 0.0000],\n",
       "          [0.0000, 0.0000]],\n",
       "\n",
       "         [[0.0000, 0.0000],\n",
       "          [0.0000, 0.0000]]],\n",
       "\n",
       "\n",
       "        [[[0.0000, 0.0000],\n",
       "          [0.0000, 0.0000]],\n",
       "\n",
       "         [[0.2500, 0.2500],\n",
       "          [0.2500, 0.2500]],\n",
       "\n",
       "         [[0.0000, 0.0000],\n",
       "          [0.0000, 0.0000]]],\n",
       "\n",
       "\n",
       "        [[[0.0000, 0.0000],\n",
       "          [0.0000, 0.0000]],\n",
       "\n",
       "         [[0.0000, 0.0000],\n",
       "          [0.0000, 0.0000]],\n",
       "\n",
       "         [[0.2500, 0.2500],\n",
       "          [0.2500, 0.2500]]]])"
      ]
     },
     "execution_count": 84,
     "metadata": {},
     "output_type": "execute_result"
    }
   ],
   "source": [
    "a = 3//2 \n",
    "import numpy as np\n",
    "def bilinear_kernel(in_channels, out_channels, kernel_size):\n",
    "    factor = (kernel_size + 1) // 2\n",
    "    if kernel_size % 2 == 1:\n",
    "        center = factor - 1\n",
    "    else:\n",
    "        center = factor - 0.5\n",
    "    print(\"factor is: \", factor)\n",
    "    print(\"kernel is: \", kernel_size)\n",
    "    print(\"center: \", center)\n",
    "    og = np.ogrid[:kernel_size, :kernel_size]\n",
    "    print(og)\n",
    "    print(\"xx:\",1-abs(og[0]-center)/factor)\n",
    "    bilinear_filter = (1 - abs(og[0] - center) / factor) * (1 - abs(og[1] - center) / factor)\n",
    "    print(\"bilinear_filter\", bilinear_filter)\n",
    "    weight = np.zeros((in_channels, out_channels, kernel_size, kernel_size), dtype=np.float32)\n",
    "    print(range(in_channels))\n",
    "    l = np.array([i for i in range(10)])\n",
    "    #print(\"l is: \", l)\n",
    "    #print(weight)\n",
    "    weight[range(in_channels), range(out_channels), :, :] = bilinear_filter\n",
    "    #weight[0,0,:,:] = bilinear_filter\n",
    "    #weight[1,1,:,:] = bilinear_filter\n",
    "    print(\"xxxxxxx\",bilinear_filter)\n",
    "    \n",
    "    #print(\"xxxx\")\n",
    "    d = np.zeros((3,3,2,2))\n",
    "    print(d)\n",
    "    d[range(3),range(3),:,:] = [[1,2],[3,4]]\n",
    "    print(d)\n",
    "    return torch.from_numpy(weight)\n",
    "bilinear_kernel(3,3,2)"
   ]
  },
  {
   "cell_type": "code",
   "execution_count": 32,
   "id": "92bb3881",
   "metadata": {},
   "outputs": [
    {
     "data": {
      "text/plain": [
       "tensor([[[[0.2500, 0.2500],\n",
       "          [0.2500, 0.2500]],\n",
       "\n",
       "         [[0.0000, 0.0000],\n",
       "          [0.0000, 0.0000]],\n",
       "\n",
       "         [[0.0000, 0.0000],\n",
       "          [0.0000, 0.0000]]],\n",
       "\n",
       "\n",
       "        [[[0.0000, 0.0000],\n",
       "          [0.0000, 0.0000]],\n",
       "\n",
       "         [[0.2500, 0.2500],\n",
       "          [0.2500, 0.2500]],\n",
       "\n",
       "         [[0.0000, 0.0000],\n",
       "          [0.0000, 0.0000]]],\n",
       "\n",
       "\n",
       "        [[[0.0000, 0.0000],\n",
       "          [0.0000, 0.0000]],\n",
       "\n",
       "         [[0.0000, 0.0000],\n",
       "          [0.0000, 0.0000]],\n",
       "\n",
       "         [[0.2500, 0.2500],\n",
       "          [0.2500, 0.2500]]]])"
      ]
     },
     "execution_count": 32,
     "metadata": {},
     "output_type": "execute_result"
    }
   ],
   "source": [
    "\n"
   ]
  },
  {
   "cell_type": "code",
   "execution_count": 30,
   "id": "f846280f",
   "metadata": {},
   "outputs": [
    {
     "name": "stdout",
     "output_type": "stream",
     "text": [
      "(3, 1)\n"
     ]
    },
    {
     "data": {
      "text/plain": [
       "(1, 3)"
      ]
     },
     "execution_count": 30,
     "metadata": {},
     "output_type": "execute_result"
    }
   ],
   "source": [
    "print(x[0].shape)\n",
    "x[1].shape\n"
   ]
  },
  {
   "cell_type": "code",
   "execution_count": 31,
   "id": "9111b323",
   "metadata": {},
   "outputs": [
    {
     "ename": "NameError",
     "evalue": "name 'og' is not defined",
     "output_type": "error",
     "traceback": [
      "\u001b[0;31m---------------------------------------------------------------------------\u001b[0m",
      "\u001b[0;31mNameError\u001b[0m                                 Traceback (most recent call last)",
      "\u001b[0;32m<ipython-input-31-cc268930d0c2>\u001b[0m in \u001b[0;36m<module>\u001b[0;34m\u001b[0m\n\u001b[0;32m----> 1\u001b[0;31m \u001b[0mbilinear_filter\u001b[0m \u001b[0;34m=\u001b[0m \u001b[0;34m(\u001b[0m\u001b[0;36m1\u001b[0m \u001b[0;34m-\u001b[0m \u001b[0mabs\u001b[0m\u001b[0;34m(\u001b[0m\u001b[0mog\u001b[0m\u001b[0;34m[\u001b[0m\u001b[0;36m0\u001b[0m\u001b[0;34m]\u001b[0m \u001b[0;34m-\u001b[0m \u001b[0mcenter\u001b[0m\u001b[0;34m)\u001b[0m \u001b[0;34m/\u001b[0m \u001b[0mfactor\u001b[0m\u001b[0;34m)\u001b[0m \u001b[0;34m*\u001b[0m \u001b[0;34m(\u001b[0m\u001b[0;36m1\u001b[0m \u001b[0;34m-\u001b[0m \u001b[0mabs\u001b[0m\u001b[0;34m(\u001b[0m\u001b[0mog\u001b[0m\u001b[0;34m[\u001b[0m\u001b[0;36m1\u001b[0m\u001b[0;34m]\u001b[0m \u001b[0;34m-\u001b[0m \u001b[0mcenter\u001b[0m\u001b[0;34m)\u001b[0m \u001b[0;34m/\u001b[0m \u001b[0mfactor\u001b[0m\u001b[0;34m)\u001b[0m\u001b[0;34m\u001b[0m\u001b[0m\n\u001b[0m",
      "\u001b[0;31mNameError\u001b[0m: name 'og' is not defined"
     ]
    }
   ],
   "source": []
  }
 ],
 "metadata": {
  "kernelspec": {
   "display_name": "Python 3",
   "language": "python",
   "name": "python3"
  },
  "language_info": {
   "codemirror_mode": {
    "name": "ipython",
    "version": 3
   },
   "file_extension": ".py",
   "mimetype": "text/x-python",
   "name": "python",
   "nbconvert_exporter": "python",
   "pygments_lexer": "ipython3",
   "version": "3.7.0"
  }
 },
 "nbformat": 4,
 "nbformat_minor": 5
}
